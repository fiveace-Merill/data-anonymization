{
  "cells": [
    {
      "cell_type": "markdown",
      "metadata": {
        "id": "view-in-github",
        "colab_type": "text"
      },
      "source": [
        "<a href=\"https://colab.research.google.com/github/fiveace-Merill/data-anonymization/blob/main/data_anonymization_techniques.ipynb\" target=\"_parent\"><img src=\"https://colab.research.google.com/assets/colab-badge.svg\" alt=\"Open In Colab\"/></a>"
      ]
    },
    {
      "cell_type": "markdown",
      "metadata": {
        "id": "ccLXiVs0N851"
      },
      "source": [
        "**DATA ANONYMIZATION TECHNIQUES IMPLEMENTATIONS**"
      ]
    },
    {
      "cell_type": "code",
      "execution_count": null,
      "metadata": {
        "colab": {
          "base_uri": "https://localhost:8080/"
        },
        "id": "E4I2sfNiaTsu",
        "outputId": "a9910a58-e597-425c-b3db-984ddcd9e6ac"
      },
      "outputs": [
        {
          "output_type": "stream",
          "name": "stdout",
          "text": [
            "Mounted at /content/drive\n"
          ]
        }
      ],
      "source": [
        "from google.colab import drive\n",
        "\n",
        "# Mount the new drive\n",
        "drive.mount('/content/drive')"
      ]
    },
    {
      "cell_type": "code",
      "execution_count": null,
      "metadata": {
        "colab": {
          "base_uri": "https://localhost:8080/"
        },
        "id": "oBI-35Y1cxgn",
        "outputId": "352f7c90-26ed-4ad3-ef89-a6046545a3a8"
      },
      "outputs": [
        {
          "output_type": "stream",
          "name": "stdout",
          "text": [
            "Collecting faker\n",
            "  Downloading Faker-20.1.0-py3-none-any.whl (1.7 MB)\n",
            "\u001b[2K     \u001b[90m━━━━━━━━━━━━━━━━━━━━━━━━━━━━━━━━━━━━━━━━\u001b[0m \u001b[32m1.7/1.7 MB\u001b[0m \u001b[31m17.1 MB/s\u001b[0m eta \u001b[36m0:00:00\u001b[0m\n",
            "\u001b[?25hRequirement already satisfied: python-dateutil>=2.4 in /usr/local/lib/python3.10/dist-packages (from faker) (2.8.2)\n",
            "Requirement already satisfied: six>=1.5 in /usr/local/lib/python3.10/dist-packages (from python-dateutil>=2.4->faker) (1.16.0)\n",
            "Installing collected packages: faker\n",
            "Successfully installed faker-20.1.0\n"
          ]
        }
      ],
      "source": [
        "!pip install faker"
      ]
    },
    {
      "cell_type": "code",
      "execution_count": null,
      "metadata": {
        "id": "jXJRt0zBMgoW"
      },
      "outputs": [],
      "source": [
        "import pandas as pd\n",
        "import matplotlib.pyplot as plt\n",
        "import numpy as np\n",
        "import os\n",
        "import time\n",
        "import timeit\n",
        "import base64\n",
        "import torch\n",
        "import faker\n",
        "import random\n",
        "import json\n",
        "import hashlib\n",
        "from datetime import datetime\n",
        "from cryptography.fernet import Fernet\n",
        "\n",
        "# Load your health dataset from a CSV file\n",
        "patient_data = pd.read_csv('/content/drive/MyDrive/data-anonymization/data/csv/input_data/patients_REH.csv')\n",
        "careplan_data = pd.read_csv('/content/drive/MyDrive/data-anonymization/data/csv/input_data/careplans_REH.csv')\n",
        "\n",
        "original_size = (os.path.getsize('/content/drive/MyDrive/data-anonymization/data/csv/input_data/patients_REH.csv')) / 1000000"
      ]
    },
    {
      "cell_type": "code",
      "execution_count": null,
      "metadata": {
        "id": "16X79dSbrs7J"
      },
      "outputs": [],
      "source": [
        "def get_file_size(file_path):\n",
        "    file_size = (os.path.getsize(file_path)) / 1000000\n",
        "    return file_size"
      ]
    },
    {
      "cell_type": "markdown",
      "metadata": {
        "id": "nvLdTe0Sbiw2"
      },
      "source": [
        "## 1. Generalization"
      ]
    },
    {
      "cell_type": "code",
      "execution_count": null,
      "metadata": {
        "colab": {
          "base_uri": "https://localhost:8080/"
        },
        "id": "1EJVhA1oYhYK",
        "outputId": "9219108c-5796-4dd0-a32c-73d999cfc4ff"
      },
      "outputs": [
        {
          "output_type": "stream",
          "name": "stdout",
          "text": [
            "Generalization Time: 0.29019529299998226 seconds\n"
          ]
        }
      ],
      "source": [
        "sensitive_fields = ['BIRTHDATE']\n",
        "def generalize_data(data, fields_to_generalize):\n",
        "  generalized_data = data.copy()\n",
        "  for field in fields_to_generalize:\n",
        "    if field in generalized_data.columns:\n",
        "      if field == 'FIRST' or field == 'LAST':\n",
        "        mask_data(generalized_data, field)\n",
        "      elif field == 'LAST':\n",
        "        mask_data(generalized_data, field)\n",
        "      elif field == 'BIRTHDATE':\n",
        "        def calculate_age(birthdate_str):\n",
        "          # Assuming birthdate_str is in the format MM/DD/YY\n",
        "          birthdate = datetime.strptime(birthdate_str, '%m/%d/%y')\n",
        "          # Get the birth year from the datetime object\n",
        "          birth_year = birthdate.year\n",
        "          # Determine the assumed century based on the two-digit year\n",
        "          if birth_year > 2023:\n",
        "            assumed_century = 1900\n",
        "            sentinel = birth_year - 2000\n",
        "          else:\n",
        "            assumed_century = 2000\n",
        "            sentinel = birth_year - 2000\n",
        "          # Create a new datetime object with the correct year\n",
        "          adjusted_birthdate = datetime(assumed_century + sentinel, birthdate.month, birthdate.day)\n",
        "          # Calculate age correctly by subtracting birth year from the current year\n",
        "          age = datetime.now().year - adjusted_birthdate.year\n",
        "          return age\n",
        "        generalized_data['AGE'] = generalized_data[field].apply(lambda x: calculate_age(x))\n",
        "        def generalize_age(age_series):\n",
        "          # Replace this with your own calculation logic\n",
        "          # For example, you can replace each age with a rounded value or a specific category\n",
        "          age_groups = ['<20', '20-35', '36-50', '51+']\n",
        "          generalized_values = pd.cut(age_series, bins=[0, 20, 35, 50, float('inf')], labels=age_groups)\n",
        "          return generalized_values\n",
        "        generalized_data['AGE'] = generalize_age(generalized_data['AGE'])\n",
        "      else:\n",
        "        print(\"Add Statement\")\n",
        "      generalized_data = generalized_data.drop('BIRTHDATE', axis=1)\n",
        "    return generalized_data\n",
        "# Generalize the data\n",
        "generalized_data = generalize_data(patient_data, sensitive_fields)\n",
        "\n",
        "# Generalize the data\n",
        "generalization_time = timeit.timeit(lambda: generalize_data(patient_data, sensitive_fields), number=10)\n",
        "\n",
        "print(f'Generalization Time: {generalization_time} seconds')\n",
        "\n",
        "# Save the generalized data to a new CSV file\n",
        "output_file = '/content/drive/MyDrive/data-anonymization/data/csv/output_data/generalized_health_data.csv'\n",
        "generalized_data.to_csv(output_file, index=False)\n",
        "\n",
        "generalization_file_size = get_file_size('/content/drive/MyDrive/data-anonymization/data/csv/output_data/generalized_health_data.csv')"
      ]
    },
    {
      "cell_type": "markdown",
      "metadata": {
        "id": "fBiri3OubsIB"
      },
      "source": [
        "## 2.Pertubation"
      ]
    },
    {
      "cell_type": "code",
      "execution_count": null,
      "metadata": {
        "id": "OwZ9asN1M5pr"
      },
      "outputs": [],
      "source": [
        "start_time, end_time = 0, 0\n",
        "# Define the fields you want to perturb\n",
        "sensitive_fields = ['SSN','FIRST','LAST','ADDRESS']\n",
        "\n",
        "# Define the perturbation function\n",
        "def perturb_data(data, fields_to_perturb, epsilon=1.0):\n",
        "    perturbed_data = data.copy()\n",
        "    for field in fields_to_perturb:\n",
        "      if field in perturbed_data.columns:\n",
        "        # Perturb numerical fields by adding Laplace-distributed noise\n",
        "        noise = np.random.laplace(scale=1.0 / epsilon, size=len(perturbed_data))\n",
        "        def insert(main_string, insert_string):\n",
        "          random_position = random.randint(0, len(main_string))\n",
        "          result_string = main_string[:0] + main_string[int(len(main_string)/2):]\n",
        "          result_string = ''.join(insert_string)\n",
        "          return result_string\n",
        "        perturbed_data[field] = perturbed_data[field].apply(lambda x: insert(str(x), str(noise)))\n",
        "      else:\n",
        "        print('Invalid column Name')\n",
        "    return perturbed_data\n",
        "#Pertubation time\n",
        "perturbed_time = timeit.timeit(lambda: perturb_data(patient_data, sensitive_fields), number=10)\n",
        "\n",
        "# Save the perturbed data to a new CSV file\n",
        "perturbed_data = perturb_data(patient_data, sensitive_fields)\n",
        "perturbed_data.to_csv('/content/drive/MyDrive/data-anonymization/data/csv/output_data/perturbed_health_data.csv', index=False)\n",
        "\n",
        "#Get the resutting file size\n",
        "perturbed_file_size = get_file_size('/content/drive/MyDrive/data-anonymization/data/csv/output_data/perturbed_health_data.csv')"
      ]
    },
    {
      "cell_type": "markdown",
      "metadata": {
        "id": "DQpidjhZb3l0"
      },
      "source": [
        "## 3.Data Masking"
      ]
    },
    {
      "cell_type": "code",
      "execution_count": null,
      "metadata": {
        "id": "rEZJgP0UM4lw"
      },
      "outputs": [],
      "source": [
        "# Define the fields you want to mask\n",
        "sensitive_fields = ['FIRST', 'LAST', 'SSN', 'ADDRESS']\n",
        "\n",
        "# Define the masking function\n",
        "def mask_data(data, fields_to_mask):\n",
        "    masked_data = data.copy()\n",
        "    for field in fields_to_mask:\n",
        "        if field in masked_data.columns:\n",
        "            masked_data[field] = '*****'\n",
        "    return masked_data\n",
        "#Get Execution time\n",
        "masking_time = timeit.timeit(lambda: mask_data(patient_data, sensitive_fields), number = 10)\n",
        "\n",
        "\n",
        "# Save the masked data to a new CSV file\n",
        "masked_data = mask_data(patient_data, sensitive_fields)\n",
        "masked_data.to_csv('/content/drive/MyDrive/data-anonymization/data/csv/output_data/masked_health_data.csv', index=False)\n",
        "\n",
        "#Get file size\n",
        "masked_file_size = get_file_size('/content/drive/MyDrive/data-anonymization/data/csv/output_data/masked_health_data.csv')\n"
      ]
    },
    {
      "cell_type": "markdown",
      "metadata": {
        "id": "3710LMe8ckNg"
      },
      "source": [
        "## 4.Data Pseudonymization"
      ]
    },
    {
      "cell_type": "code",
      "execution_count": null,
      "metadata": {
        "id": "MZ8AggbINe8Q"
      },
      "outputs": [],
      "source": [
        "# Define the fields you want to pseudonymize\n",
        "sensitive_fields = ['FIRST','LAST','SSN', 'ADDRESS']\n",
        "\n",
        "# Define the pseudonymization function\n",
        "def pseudonymize_data(data, fields_to_pseudonymize):\n",
        "    pseudonymized_data = data.copy()\n",
        "    # Store the mapping between pseudonyms and original data\n",
        "    pseudonymization_map = {}\n",
        "    for field in fields_to_pseudonymize:\n",
        "        if field in pseudonymized_data.columns:\n",
        "            # Generate pseudonyms and create a mapping\n",
        "            pseudonymized_data[field] = pseudonymized_data[field].apply(lambda x: f'Pseudonym_{hash(x)}')\n",
        "            pseudonymization_map[field] = dict(zip(data[field], pseudonymized_data[field]))\n",
        "    return pseudonymized_data, pseudonymization_map\n",
        "#Get Execution time\n",
        "pseudonymization_time = timeit.timeit(lambda: pseudonymize_data(patient_data, sensitive_fields), number = 10)\n",
        "\n",
        "# Save the pseudonymized data to a new CSV file\n",
        "pseudonymized_data, pseudonymization_map = pseudonymize_data(patient_data, sensitive_fields)\n",
        "pseudonymized_data.to_csv('/content/drive/MyDrive/data-anonymization/data/csv/output_data/pseudonymized_health_data.csv', index=False)\n",
        "\n",
        "#Get file size\n",
        "pseudonymization_file_size = get_file_size('/content/drive/MyDrive/data-anonymization/data/csv/output_data/pseudonymized_health_data.csv')\n",
        "\n",
        "# Save the pseudonymization map to a file for future reference\n",
        "with open('/content/drive/MyDrive/data-anonymization/data/csv/output_data/pseudonymization_map.json', 'w') as map_file:\n",
        "    json.dump(pseudonymization_map, map_file)"
      ]
    },
    {
      "cell_type": "markdown",
      "metadata": {
        "id": "1xjLonzfe-nt"
      },
      "source": [
        "## 5.Data Swapping"
      ]
    },
    {
      "cell_type": "code",
      "execution_count": null,
      "metadata": {
        "id": "lG0OtITTN_Bt"
      },
      "outputs": [],
      "source": [
        "# Define the fields you want to swap\n",
        "# FIRST', 'LAST\n",
        "sensitive_fields = ['SSN', 'FIRST', 'LAST', 'ADDRESS']\n",
        "\n",
        "# Define the data swapping function\n",
        "def swap_data(data, fields_to_swap):\n",
        "    swapped_data = data.copy()\n",
        "\n",
        "    for field in fields_to_swap:\n",
        "        if field in swapped_data.columns:\n",
        "            unique_values = swapped_data[field].unique()\n",
        "            random.shuffle(unique_values)\n",
        "            # Create a mapping between original values and shuffled values\n",
        "            value_mapping = dict(zip(unique_values, random.sample(list(unique_values), len(unique_values))))\n",
        "            # Apply the mapping to swap values\n",
        "            swapped_data[field] = swapped_data[field].map(value_mapping)\n",
        "        else:\n",
        "          print('Invalid Column Name')\n",
        "    return swapped_data\n",
        "\n",
        "#Get Execution time\n",
        "swapped_time = timeit.timeit(lambda: swap_data(patient_data, sensitive_fields), number=10)\n",
        "\n",
        "# Save the swapped data to a new CSV file\n",
        "swapped_data = swap_data(patient_data, sensitive_fields)\n",
        "swapped_data.to_csv('/content/drive/MyDrive/data-anonymization/data/csv/output_data/swapped_health_data.csv', index=False)\n",
        "\n",
        "#Get file size\n",
        "swapped_file_size = get_file_size('/content/drive/MyDrive/data-anonymization/data/csv/output_data/swapped_health_data.csv')"
      ]
    },
    {
      "cell_type": "markdown",
      "metadata": {
        "id": "XdM2nCk9fley"
      },
      "source": [
        "## 6.Noise Addition"
      ]
    },
    {
      "cell_type": "code",
      "execution_count": null,
      "metadata": {
        "id": "Or48_gZ5OXsG"
      },
      "outputs": [],
      "source": [
        "# Define the fields you want to add noise to\n",
        "sensitive_fields = ['FIRST', 'LAST', 'SSN', 'ADDRESS']\n",
        "\n",
        "# Define the noise addition function\n",
        "def add_noise_to_data(data, fields_to_add_noise, epsilon=1.0):\n",
        "    noisy_data = data.copy()\n",
        "    for field in fields_to_add_noise:\n",
        "        if field in noisy_data.columns:\n",
        "            # Add Laplace-distributed noise with the specified privacy parameter (epsilon)\n",
        "            def insert_at_random_position(main_string, insert_string):\n",
        "              # Generate a random position within the length of the main string\n",
        "              random_position = random.randint(0, int(len(main_string)/2))\n",
        "              # Insert the insert_string at the random position\n",
        "              result_string = main_string[:0] + main_string[int(len(main_string)/2):] + insert_string\n",
        "              return result_string\n",
        "            scale = 1.0 / epsilon\n",
        "            noisy_data[field] = noisy_data[field].apply(lambda x: insert_at_random_position(str(x),str(np.random.laplace(0, scale, size=len(noisy_data)))))\n",
        "        else:\n",
        "          print('Invalid Column Name')\n",
        "    return noisy_data\n",
        "\n",
        "#Get time it takes to add noise to data\n",
        "noise_addition_time = timeit.timeit(lambda: add_noise_to_data(patient_data, sensitive_fields), number=10)\n",
        "\n",
        "# Save the noisy data to a new CSV file\n",
        "noisy_data = add_noise_to_data(patient_data, sensitive_fields)\n",
        "noisy_data.to_csv('/content/drive/MyDrive/data-anonymization/data/csv/output_data/noisy_health_data.csv', index=False)\n",
        "\n",
        "#Get file size\n",
        "noise_addition_file_size = get_file_size('/content/drive/MyDrive/data-anonymization/data/csv/output_data/noisy_health_data.csv')\n"
      ]
    },
    {
      "cell_type": "markdown",
      "metadata": {
        "id": "RMjTxBcXh0Uo"
      },
      "source": [
        "## 7.Data Encryption"
      ]
    },
    {
      "cell_type": "code",
      "execution_count": null,
      "metadata": {
        "id": "iivYSRo3POcl"
      },
      "outputs": [],
      "source": [
        "sensitive_fields = ['FIRST','LAST','SSN', 'ADDRESS']\n",
        "def encrypt_data(file_path, fields_to_mask):\n",
        "    # Load the CSV file into a DataFrame\n",
        "    encrypted_data = patient_data.copy()\n",
        "\n",
        "    # Generate a single key for all sensitive fields\n",
        "    key = Fernet.generate_key()\n",
        "    cipher = Fernet(key)\n",
        "\n",
        "    # Encrypt sensitive fields\n",
        "    for field in fields_to_mask:\n",
        "        if field in encrypted_data.columns:\n",
        "            encrypted_data[field] = encrypted_data[field].astype(str)\n",
        "            encrypted_data[field] = encrypted_data[field].apply(lambda x: cipher.encrypt(x.encode()).decode())\n",
        "        else:\n",
        "            print(encrypted_data[field])\n",
        "            print(f'{field} is not a valid column name')\n",
        "\n",
        "    return encrypted_data\n",
        "#Get Encryption time\n",
        "encryption_time = timeit.timeit(lambda: encrypt_data(patient_data, sensitive_fields), number=10)\n",
        "\n",
        "# Save the masked data to a new CSV file\n",
        "encrypted_data = encrypt_data(patient_data, sensitive_fields)\n",
        "encrypted_data.to_csv('/content/drive/MyDrive/data-anonymization/data/csv/output_data/encrypted_health_data.csv', index=False)\n",
        "encryption_file_size = get_file_size('/content/drive/MyDrive/data-anonymization/data/csv/output_data/encrypted_health_data.csv')\n",
        "\n"
      ]
    },
    {
      "cell_type": "markdown",
      "metadata": {
        "id": "QXN9t1ZXjKpC"
      },
      "source": [
        "## 8.Synthetic Data"
      ]
    },
    {
      "cell_type": "code",
      "execution_count": null,
      "metadata": {
        "id": "Dxqr0yX-jP95"
      },
      "outputs": [],
      "source": [
        "#Reset timing variables\n",
        "start_time, end_time = 0, 0\n",
        "# Initialize the Faker library to generate fake names, addresses, and other details\n",
        "fake = faker.Faker()\n",
        "def generate_synthetic_data(num_records):\n",
        "    data = {\n",
        "        'ID': [fake.uuid4() for _ in range(num_records)],\n",
        "        'SSN': [fake.ssn() for _ in range(num_records)],\n",
        "        'FIRST': [fake.first_name() for _ in range(num_records)],\n",
        "        'LAST': [fake.last_name() for _ in range(num_records)],\n",
        "        'BIRTHDATE': [fake.date_of_birth(minimum_age=18, maximum_age=100) for _ in range(num_records)],\n",
        "        'ADDRESS': [fake.address() for _ in range(num_records)],\n",
        "        'GENDER': [fake.random_element(elements=('M', 'F')) for _ in range(num_records)]\n",
        "    }\n",
        "    return pd.DataFrame(data)\n",
        "\n",
        "num_records = len(patient_data)  # Adjust the number of records as needed\n",
        "\n",
        "#Get time it takes to generate synthetic data\n",
        "synthetic_time = timeit.timeit(lambda: generate_synthetic_data(num_records), number=10)\n",
        "\n",
        "#Get the file size of the synthetic data generated\n",
        "synthetic_data = generate_synthetic_data(num_records)\n",
        "synthetic_data.to_csv('/content/drive/MyDrive/data-anonymization/data/csv/output_data/synthetic_health_data.csv', index=False)\n",
        "original_data = patient_data.copy()\n",
        "combined_data = pd.concat([original_data, synthetic_data], axis=1)\n",
        "combined_data.to_csv('/content/drive/MyDrive/data-anonymization/data/csv/output_data/combined_health_data.csv', index=False)\n",
        "synthetic_file_size = get_file_size('/content/drive/MyDrive/data-anonymization/data/csv/output_data/combined_health_data.csv')"
      ]
    },
    {
      "cell_type": "markdown",
      "metadata": {
        "id": "rFQpem6qjq1k"
      },
      "source": [
        "## 9.Data Tokenization"
      ]
    },
    {
      "cell_type": "code",
      "execution_count": null,
      "metadata": {
        "id": "z7rmBigcPlmN"
      },
      "outputs": [],
      "source": [
        "# Function to generate tokens\n",
        "def tokenize_data(data, fields_to_tokenize):\n",
        "    faker_generator = faker.Faker()\n",
        "    token_dict = {}\n",
        "    for field in fields_to_tokenize:\n",
        "        if field in data.columns:\n",
        "            # Generate unique tokens for each unique value in the column\n",
        "            unique_values = data[field].unique()\n",
        "            tokens = [Fernet.generate_key().decode() for _ in range(len(unique_values))]\n",
        "            token_dict[field] = dict(zip(unique_values, tokens))\n",
        "\n",
        "            # Apply tokenization to the column\n",
        "            data[field] = data[field].map(token_dict[field])\n",
        "        else:\n",
        "            print(f'{field} is not a valid column name')\n",
        "    return data, token_dict\n",
        "\n",
        "# Function to anonymize data\n",
        "def anonymize_data(data, fields_to_anonymize):\n",
        "    for field in fields_to_anonymize:\n",
        "        if field in data.columns:\n",
        "            # Replace the actual values with anonymized values\n",
        "            data[field] = data[field].apply(lambda x: hashlib.sha256(str(x).encode()).hexdigest())\n",
        "        else:\n",
        "            print(f'{field} is not a valid column name')\n",
        "    return data\n",
        "\n",
        "# Define columns to tokenize and anonymize\n",
        "fields_to_tokenize = ['SSN','FIRST','LAST','ETHNICITY']\n",
        "fields_to_anonymize = ['SSN','FIRST','LAST','ADDRESS',]\n",
        "def timing_abstraction(data):\n",
        "  # Tokenize specified columns\n",
        "  data, token_dict = tokenize_data(data, fields_to_tokenize)\n",
        "  # Anonymize specified columns\n",
        "  patient_data = anonymize_data(data.copy(), fields_to_anonymize)\n",
        "\n",
        "# Save the tokenized and anonymized data to a new CSV file\n",
        "patient_data.to_csv('/content/drive/MyDrive/data-anonymization/data/csv/output_data/tokenized_anonymized_data.csv', index=False)\n",
        "\n",
        "#Get Tokenization time\n",
        "tokenization_time = timeit.timeit(lambda: timing_abstraction(patient_data), number=10)\n",
        "\n",
        "#Get Tokenized file size\n",
        "tokenization_file_size = get_file_size('/content/drive/MyDrive/data-anonymization/data/csv/output_data/tokenized_anonymized_data.csv')\n"
      ]
    },
    {
      "cell_type": "markdown",
      "metadata": {
        "id": "7yVkBd9_YhYY"
      },
      "source": [
        "## Analysis"
      ]
    },
    {
      "cell_type": "markdown",
      "metadata": {
        "id": "J0O_p28LYhYY"
      },
      "source": [
        "#### 1. Space Analysis"
      ]
    },
    {
      "cell_type": "code",
      "execution_count": null,
      "metadata": {
        "colab": {
          "base_uri": "https://localhost:8080/",
          "height": 487
        },
        "id": "xeA7lgAS-ogg",
        "outputId": "5bdef2b1-8439-44e7-a801-d4cab2643769"
      },
      "outputs": [
        {
          "output_type": "display_data",
          "data": {
            "text/plain": [
              "<Figure size 640x480 with 1 Axes>"
            ],
            "image/png": "[encoded data removed]"
          },
          "metadata": {}
        }
      ],
      "source": [
        "anonymized_files_size = {\n",
        "    \"original file\": synthetic_file_size,\n",
        "    \"perturbed\": perturbed_file_size,\n",
        "    \"swapping\": swapped_file_size,\n",
        "    \"masking\": masked_file_size ,\n",
        "    \"pseudonymization\": pseudonymization_file_size,  # Corrected typo here\n",
        "    \"noise addition\": noise_addition_file_size,\n",
        "    \"synthetic data\": synthetic_file_size,\n",
        "    \"Generalization\": generalization_file_size,\n",
        "    \"Tokenization\": tokenization_file_size,\n",
        "    \"Encryption\": encryption_file_size\n",
        "}\n",
        "# Use a different color for \"synthetic data\"\n",
        "colors = ['red', '#0582CA', '#006494', 'green', '#051923', '#0077b6', '#00F5D4', '#FF5733', '#014F86', '#2EC4B6']\n",
        "\n",
        "plt.bar(anonymized_files_size.keys(), anonymized_files_size.values(), color=colors, linewidth=2)\n",
        "plt.xticks(rotation=45)  # Adjust the rotation angle as needed\n",
        "plt.grid(axis='y', linestyle='--', alpha=0.7)\n",
        "plt.ylabel('filesize(Mb)')\n",
        "plt.xlabel('Anonymization Techniques')\n",
        "plt.title('Anonymization Data size Resutls')\n",
        "plt.tight_layout()  # Adjust layout for better display\n",
        "plt.savefig('/content/drive/MyDrive/data-anonymization/plots/data-size-plot.png')"
      ]
    },
    {
      "cell_type": "markdown",
      "metadata": {
        "id": "d5W9M41DBBas"
      },
      "source": [
        "<br><br>"
      ]
    },
    {
      "cell_type": "markdown",
      "metadata": {
        "id": "MprJRPJmYhYu"
      },
      "source": [
        "#### 2.Time Analysis"
      ]
    },
    {
      "cell_type": "code",
      "execution_count": null,
      "metadata": {
        "colab": {
          "base_uri": "https://localhost:8080/",
          "height": 524
        },
        "id": "wl36OKY8AKZw",
        "outputId": "be3afec9-70b7-4b08-e0b8-7270d881e7db"
      },
      "outputs": [
        {
          "output_type": "stream",
          "name": "stdout",
          "text": [
            "dict_values([16.410989176000015, 0.6260051239999882, 0.056839795000001914, 0.15840746500001046, 12.700128741000015, 5.6551074569999855, 0.29019529299998226, 0.4295581259999892, 6.286714947999997])\n"
          ]
        },
        {
          "output_type": "display_data",
          "data": {
            "text/plain": [
              "<Figure size 640x480 with 1 Axes>"
            ],
            "image/png": "[encoded data removed]"
          },
          "metadata": {}
        }
      ],
      "source": [
        "anonymization_times = {\n",
        "    \"perturbed\": perturbed_time,\n",
        "    \"swapping\": swapped_time,\n",
        "    \"masking\": masking_time,  # Adjusted key\n",
        "    \"pseudonymization\": pseudonymization_time,\n",
        "    \"noise addition\": noise_addition_time,\n",
        "    \"synthetic data\": synthetic_time,\n",
        "    \"Generalization\": generalization_time,\n",
        "    \"Tokenization\": tokenization_time,\n",
        "    \"Encryption\": encryption_time\n",
        "}\n",
        "print(anonymization_times.values())\n",
        "# Use a different color for \"synthetic data\"\n",
        "colors = ['#00A6FB', '#0582CA', '#006494', '#003554', '#051923', '#0077b6', '#00F5D4', '#FF5733', '#014F86', '#2EC4B6']\n",
        "\n",
        "plt.bar(anonymization_times.keys(), anonymization_times.values(), color=colors, linewidth=2)\n",
        "plt.xticks(rotation=45)  # Adjust the rotation angle as needed\n",
        "plt.grid(axis='y', linestyle='--', alpha=0.7)\n",
        "plt.ylabel('Time (seconds)')\n",
        "plt.xlabel('Anonymization Techniques')\n",
        "plt.title('Anonymization Time Results')\n",
        "plt.tight_layout()  # Adjust layout for better display\n",
        "plt.savefig('/content/drive/MyDrive/data-anonymization/plots/time-plot.png')\n"
      ]
    },
    {
      "cell_type": "markdown",
      "metadata": {
        "id": "0JsGUNhAApcB"
      },
      "source": [
        "<br><br>\n",
        "<br><br>\n",
        "<br><br>\n",
        "<br><br>\n",
        "<br><br>\n",
        "\n",
        "\n",
        "\n",
        "\n",
        "```\n",
        "# This is formatted as code\n",
        "```\n",
        "\n"
      ]
    },
    {
      "cell_type": "markdown",
      "metadata": {
        "id": "0a5XeiHgYhYw"
      },
      "source": [
        "#### 3.Scalability Analysis"
      ]
    },
    {
      "cell_type": "code",
      "execution_count": null,
      "metadata": {
        "id": "-oXO3WjZYhYw"
      },
      "outputs": [],
      "source": [
        "ALGORITHMS = {\n",
        "    'Time':{\n",
        "              \"perturbed\": perturbed_time,\n",
        "              \"swapping\": swapped_time,\n",
        "              \"masking\": masking_time,  # Adjusted key\n",
        "              \"pseudonymization\": pseudonymization_time,\n",
        "              \"noise addition\": noise_addition_time,\n",
        "              \"synthetic data\": synthetic_time,\n",
        "              \"Generalization\": generalization_time,\n",
        "              \"Tokenization\": tokenization_time,\n",
        "              \"Encryption\": encryption_time\n",
        "    },\n",
        "    'Space':{\n",
        "            \"perturbation\": perturbed_file_size,\n",
        "            \"swapping\": swapped_file_size,\n",
        "            \"masking\": masked_file_size ,\n",
        "            \"pseudonymization\": pseudonymization_file_size,\n",
        "            \"noise addition\": noise_addition_file_size,\n",
        "            \"synthetic data\": synthetic_file_size,\n",
        "            \"Generalization\" : generalization_file_size,\n",
        "            \"Tokenization\": tokenization_file_size,\n",
        "            \"Encryption\": encryption_file_size\n",
        "    },\n",
        "    'ease of use': {\n",
        "            \"perturbation\": 4.5,\n",
        "            \"swapping\": 4.5,\n",
        "            \"masking\": 3.0,\n",
        "            \"pseudonymization\": 2.0,\n",
        "            \"noise addition\": 3.4,\n",
        "            \"synthetic data\": 3.9,\n",
        "            \"Generalization\" : 4.0,\n",
        "            \"Tokenization\": 2.5,\n",
        "            \"Encryption\": 3.5\n",
        "    }\n",
        "}\n",
        "\n",
        "# Mock findings for each algorithm\n",
        "algorithms = list(ALGORITHMS['Time'].keys())\n",
        "\n",
        "#Space for each algorithm\n",
        "space_required =   list(ALGORITHMS['Space'].values())# in MB\n",
        "\n",
        "#Time taken for each algorithm\n",
        "time_taken = list(ALGORITHMS['Time'].values())\n",
        "\n",
        "#ease of use of each algorithm\n",
        "ease_of_use = list(ALGORITHMS['ease of use'].values())  # on a scale of 1 to 5 (5 being the easiest)\n",
        "\n",
        "# Preemptive analysis for a larger adjustable dataset as per user input in MBs\n",
        "larger_data_size = 10\n",
        "\n",
        "for algorithm in algorithms:\n",
        "    # print(f\"\\nAnalysis for {algorithm} with Larger Dataset of {larger_data_size} MB:\")\n",
        "    # Assuming space required scales linearly with data size\n",
        "    space_required_larger_data = space_required[algorithms.index(algorithm)] * (larger_data_size)\n",
        "\n",
        "    # Assuming time taken scales linearly with data size\n",
        "    time_taken_larger_data = time_taken[algorithms.index(algorithm)] * (larger_data_size)\n",
        "\n",
        "    append = {algorithm : space_required_larger_data, algorithm : time_taken_larger_data}\n",
        "\n",
        "    # print(f\"Space Required: {space_required_larger_data:.2f} MB\")\n",
        "    # print(f\"Time Taken: {time_taken_larger_data:.2f} seconds\")\n",
        "    # print(f\"Ease of Use: {ease_of_use[algorithms.index(algorithm)]}\")"
      ]
    }
  ],
  "metadata": {
    "colab": {
      "provenance": [],
      "include_colab_link": true
    },
    "kernelspec": {
      "display_name": "Python 3 (ipykernel)",
      "language": "python",
      "name": "python3"
    },
    "language_info": {
      "codemirror_mode": {
        "name": "ipython",
        "version": 3
      },
      "file_extension": ".py",
      "mimetype": "text/x-python",
      "name": "python",
      "nbconvert_exporter": "python",
      "pygments_lexer": "ipython3",
      "version": "3.10.13"
    }
  },
  "nbformat": 4,
  "nbformat_minor": 0
}